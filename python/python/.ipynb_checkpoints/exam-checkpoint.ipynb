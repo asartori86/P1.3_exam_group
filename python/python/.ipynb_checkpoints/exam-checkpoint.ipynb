{
 "cells": [
  {
   "cell_type": "code",
   "execution_count": 15,
   "metadata": {},
   "outputs": [],
   "source": [
    "%reset -f\n",
    "import unittest\n",
    "import datetime # module to deal with dates\n",
    "\n",
    "class PostcardList(object): \n",
    "    _file = None # file name\n",
    "    _postcards = [] # list of postcards read from _file\n",
    "    _date = {} # key: string date; value: list of indices\n",
    "    _from = {} # key: string sender; value: list of indices\n",
    "    _to = {} # key: string receiver; value: list of indices\n",
    "    \n",
    "    def writeFile(self): \n",
    "        # write self.{_date,_from,_to} to self._file  \n",
    "        with open(self._file, 'w') as file:\n",
    "            for postcard in self._postcards:\n",
    "                f.write(str(postcard))\n",
    "                \n",
    "    def readFile(self, filename):\n",
    "        # read from self._file read self.{_date,_from,_to}\n",
    "        with open(filename) as file:\n",
    "            for line in file:\n",
    "                self._postcards.append(line)\n",
    "                self._file = filename\n",
    "                self.parsePostcards()\n",
    "                \n",
    "    def parsePostcards(self):\n",
    "        # parse self._postcards, set self.{_date,_from,_to}\n",
    "        for idx, postcard in enumerate(self._postcards):\n",
    "            parts = postcard.split(';')\n",
    "            ps_date = parts[0].split(':')[1].strip()\n",
    "            ps_from = parts[1].split(':')[1].strip()\n",
    "            ps_to = parts[2].split(':')[1].strip()\n",
    "               \n",
    "            if ps_date not in self._date:                  \n",
    "                self._date.update({ps_date: []})\n",
    "            if ps_from not in self._from:\n",
    "                self._from.update({ps_from: []})\n",
    "            if ps_to not in self._to:\n",
    "                self._to.update({ps_to: []})\n",
    "                              \n",
    "            self._date[ps_date].append(idx)\n",
    "            self._from[ps_from].append(idx)\n",
    "            self._to[ps_to].append(idx)\n",
    "                "
   ]
  }
 ],
 "metadata": {
  "kernelspec": {
   "display_name": "Python 3",
   "language": "python",
   "name": "python3"
  },
  "language_info": {
   "codemirror_mode": {
    "name": "ipython",
    "version": 3
   },
   "file_extension": ".py",
   "mimetype": "text/x-python",
   "name": "python",
   "nbconvert_exporter": "python",
   "pygments_lexer": "ipython3",
   "version": "3.6.2"
  }
 },
 "nbformat": 4,
 "nbformat_minor": 2
}
